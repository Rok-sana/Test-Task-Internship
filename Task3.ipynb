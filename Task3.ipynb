{
  "nbformat": 4,
  "nbformat_minor": 0,
  "metadata": {
    "colab": {
      "provenance": [],
      "authorship_tag": "ABX9TyOWXlnReKxms4nIKQwIm3Yf",
      "include_colab_link": true
    },
    "kernelspec": {
      "name": "python3",
      "display_name": "Python 3"
    },
    "language_info": {
      "name": "python"
    },
    "gpuClass": "standard"
  },
  "cells": [
    {
      "cell_type": "markdown",
      "metadata": {
        "id": "view-in-github",
        "colab_type": "text"
      },
      "source": [
        "<a href=\"https://colab.research.google.com/github/Rok-sana/Test-Task-Internship/blob/main/Task3.ipynb\" target=\"_parent\"><img src=\"https://colab.research.google.com/assets/colab-badge.svg\" alt=\"Open In Colab\"/></a>"
      ]
    },
    {
      "cell_type": "code",
      "execution_count": 21,
      "metadata": {
        "id": "Zn7yVcLIttcu"
      },
      "outputs": [],
      "source": [
        "import pandas as pd\n",
        "import numpy as np\n",
        "import matplotlib.pyplot as plt\n",
        "import seaborn as sns\n",
        "from sklearn.model_selection import train_test_split, GridSearchCV\n",
        "                                     \n",
        "from sklearn.metrics import mean_squared_error\n",
        "from sklearn.feature_selection import SelectKBest, f_classif                             \n",
        "from sklearn.pipeline import Pipeline\n",
        "from xgboost import XGBClassifier, plot_importance\n",
        "from sklearn.preprocessing import StandardScaler\n",
        "\n",
        "from yellowbrick.features import Rank2D\n",
        "pd.set_option('display.max_columns', None)"
      ]
    },
    {
      "cell_type": "code",
      "source": [
        "df = pd.read_csv('internship_train.csv')"
      ],
      "metadata": {
        "id": "UnVrHaPmxA6t"
      },
      "execution_count": 3,
      "outputs": []
    },
    {
      "cell_type": "markdown",
      "source": [
        "**EDA**"
      ],
      "metadata": {
        "id": "q1gYVqT83c-Y"
      }
    },
    {
      "cell_type": "code",
      "source": [
        "df.head()"
      ],
      "metadata": {
        "id": "kPFGsvoKxWbp",
        "colab": {
          "base_uri": "https://localhost:8080/",
          "height": 268
        },
        "outputId": "cd848199-6de8-41a3-e2b7-e389198ab8bf"
      },
      "execution_count": 4,
      "outputs": [
        {
          "output_type": "execute_result",
          "data": {
            "text/plain": [
              "     0    1    2    3    4    5         6         7  8    9   10   11   12  \\\n",
              "0  236  488   16  221  382   97 -4.472136  0.107472  0  132  281  336   99   \n",
              "1  386  206  357  232    1  198  7.810250  0.763713  1  143  109  123  130   \n",
              "2  429   49  481  111  111  146  8.602325  0.651162  1  430  488  138   80   \n",
              "3  414  350  481  370  208  158  8.306624  0.424645  1  340  111   38  177   \n",
              "4  318  359   20  218  317  301  8.124038  0.767304  1  212  141  417  343   \n",
              "\n",
              "          13         14         15         16         17         18  \\\n",
              "0   3.880098   1.797502   3.252475  12.131981   3.091361   5.630319   \n",
              "1  12.099770  10.670550  14.137111   0.217037   1.426881   0.916617   \n",
              "2   2.947479  12.671352  13.279918  13.163338   9.051826  11.605822   \n",
              "3   5.368252   6.765946   0.544415   7.175573  14.515096   1.901743   \n",
              "4  14.592218   6.483629   9.159313   5.083046   8.772015   7.687242   \n",
              "\n",
              "          19         20         21         22         23         24  \\\n",
              "0   4.466373   2.511203   5.982724   4.541159  12.740476  12.634929   \n",
              "1   8.168254   0.432319   5.872218  10.401401  12.843301   7.529992   \n",
              "2  11.094161  10.461813   9.827713   2.206019   9.914789   4.448482   \n",
              "3   9.231263   9.600810  10.058844   5.680021   8.238473   0.272760   \n",
              "4  11.106926  13.926358   0.914295   1.418124   4.504223   6.158475   \n",
              "\n",
              "          25         26         27         28         29         30  \\\n",
              "0   4.050294  11.827245   3.568321  13.420537   8.251807   2.287900   \n",
              "1  12.525335   8.655344   8.499587   5.602552   4.187738  13.205982   \n",
              "2   8.864810  10.837476  14.167872  13.456857  14.855511   7.596095   \n",
              "3  11.892743   4.030567  14.946749   7.121632   6.507572  12.462688   \n",
              "4   1.790923   7.049614  14.409808  11.615837   5.675790   9.136146   \n",
              "\n",
              "          31         32         33        34         35         36         37  \\\n",
              "0  14.834430   0.082253   2.975561  5.223753   1.212287   7.302797   7.083149   \n",
              "1   5.432667  12.379275  11.938420  6.057282   2.581280  11.785456   4.445564   \n",
              "2   4.928033   2.439930   6.791165  8.709536   1.363087   4.980975   2.182372   \n",
              "3  12.222522   0.318528   5.350321  3.143358  10.291804  13.105170  10.159100   \n",
              "4  10.640432  14.051122   2.240417  3.271828   5.061455   3.679880   2.948615   \n",
              "\n",
              "          38         39         40        41         42         43         44  \\\n",
              "0   3.610350   7.767512   7.829657  8.395356   1.583711  10.125020  13.340874   \n",
              "1  11.141346   0.839731   1.481908  8.920653   4.450379  10.584802  12.484882   \n",
              "2  14.673614   8.083289   6.601472  6.789200  12.982035  10.273114  14.030257   \n",
              "3   3.671488  11.087198   1.289054  0.249375   2.967133   6.885179   2.789577   \n",
              "4   6.419577  14.873100  14.806887  9.992545   3.701959  11.162686   1.886560   \n",
              "\n",
              "         45         46         47         48         49         50         51  \\\n",
              "0  0.870542   1.962937   7.466666  11.547794   8.822916   9.046424   7.895535   \n",
              "1  7.168680   2.885415  12.413973  10.260494  10.091351   9.270888   3.173994   \n",
              "2  0.394970   8.160625  12.592059   8.937577   2.265191  11.255721  12.794841   \n",
              "3  6.416708  10.549814  11.456437   6.468099   2.519049   0.258284   9.317696   \n",
              "4  1.919999   2.268203   0.149421   4.105907  10.416291   6.816217   8.586960   \n",
              "\n",
              "          52     target  \n",
              "0  11.010677  20.107472  \n",
              "1  13.921871  61.763713  \n",
              "2  12.080951  74.651162  \n",
              "3   5.383098  69.424645  \n",
              "4   4.512419  66.767304  "
            ],
            "text/html": [
              "\n",
              "  <div id=\"df-12c489e5-c12b-4fe6-8046-f156b8ce6365\">\n",
              "    <div class=\"colab-df-container\">\n",
              "      <div>\n",
              "<style scoped>\n",
              "    .dataframe tbody tr th:only-of-type {\n",
              "        vertical-align: middle;\n",
              "    }\n",
              "\n",
              "    .dataframe tbody tr th {\n",
              "        vertical-align: top;\n",
              "    }\n",
              "\n",
              "    .dataframe thead th {\n",
              "        text-align: right;\n",
              "    }\n",
              "</style>\n",
              "<table border=\"1\" class=\"dataframe\">\n",
              "  <thead>\n",
              "    <tr style=\"text-align: right;\">\n",
              "      <th></th>\n",
              "      <th>0</th>\n",
              "      <th>1</th>\n",
              "      <th>2</th>\n",
              "      <th>3</th>\n",
              "      <th>4</th>\n",
              "      <th>5</th>\n",
              "      <th>6</th>\n",
              "      <th>7</th>\n",
              "      <th>8</th>\n",
              "      <th>9</th>\n",
              "      <th>10</th>\n",
              "      <th>11</th>\n",
              "      <th>12</th>\n",
              "      <th>13</th>\n",
              "      <th>14</th>\n",
              "      <th>15</th>\n",
              "      <th>16</th>\n",
              "      <th>17</th>\n",
              "      <th>18</th>\n",
              "      <th>19</th>\n",
              "      <th>20</th>\n",
              "      <th>21</th>\n",
              "      <th>22</th>\n",
              "      <th>23</th>\n",
              "      <th>24</th>\n",
              "      <th>25</th>\n",
              "      <th>26</th>\n",
              "      <th>27</th>\n",
              "      <th>28</th>\n",
              "      <th>29</th>\n",
              "      <th>30</th>\n",
              "      <th>31</th>\n",
              "      <th>32</th>\n",
              "      <th>33</th>\n",
              "      <th>34</th>\n",
              "      <th>35</th>\n",
              "      <th>36</th>\n",
              "      <th>37</th>\n",
              "      <th>38</th>\n",
              "      <th>39</th>\n",
              "      <th>40</th>\n",
              "      <th>41</th>\n",
              "      <th>42</th>\n",
              "      <th>43</th>\n",
              "      <th>44</th>\n",
              "      <th>45</th>\n",
              "      <th>46</th>\n",
              "      <th>47</th>\n",
              "      <th>48</th>\n",
              "      <th>49</th>\n",
              "      <th>50</th>\n",
              "      <th>51</th>\n",
              "      <th>52</th>\n",
              "      <th>target</th>\n",
              "    </tr>\n",
              "  </thead>\n",
              "  <tbody>\n",
              "    <tr>\n",
              "      <th>0</th>\n",
              "      <td>236</td>\n",
              "      <td>488</td>\n",
              "      <td>16</td>\n",
              "      <td>221</td>\n",
              "      <td>382</td>\n",
              "      <td>97</td>\n",
              "      <td>-4.472136</td>\n",
              "      <td>0.107472</td>\n",
              "      <td>0</td>\n",
              "      <td>132</td>\n",
              "      <td>281</td>\n",
              "      <td>336</td>\n",
              "      <td>99</td>\n",
              "      <td>3.880098</td>\n",
              "      <td>1.797502</td>\n",
              "      <td>3.252475</td>\n",
              "      <td>12.131981</td>\n",
              "      <td>3.091361</td>\n",
              "      <td>5.630319</td>\n",
              "      <td>4.466373</td>\n",
              "      <td>2.511203</td>\n",
              "      <td>5.982724</td>\n",
              "      <td>4.541159</td>\n",
              "      <td>12.740476</td>\n",
              "      <td>12.634929</td>\n",
              "      <td>4.050294</td>\n",
              "      <td>11.827245</td>\n",
              "      <td>3.568321</td>\n",
              "      <td>13.420537</td>\n",
              "      <td>8.251807</td>\n",
              "      <td>2.287900</td>\n",
              "      <td>14.834430</td>\n",
              "      <td>0.082253</td>\n",
              "      <td>2.975561</td>\n",
              "      <td>5.223753</td>\n",
              "      <td>1.212287</td>\n",
              "      <td>7.302797</td>\n",
              "      <td>7.083149</td>\n",
              "      <td>3.610350</td>\n",
              "      <td>7.767512</td>\n",
              "      <td>7.829657</td>\n",
              "      <td>8.395356</td>\n",
              "      <td>1.583711</td>\n",
              "      <td>10.125020</td>\n",
              "      <td>13.340874</td>\n",
              "      <td>0.870542</td>\n",
              "      <td>1.962937</td>\n",
              "      <td>7.466666</td>\n",
              "      <td>11.547794</td>\n",
              "      <td>8.822916</td>\n",
              "      <td>9.046424</td>\n",
              "      <td>7.895535</td>\n",
              "      <td>11.010677</td>\n",
              "      <td>20.107472</td>\n",
              "    </tr>\n",
              "    <tr>\n",
              "      <th>1</th>\n",
              "      <td>386</td>\n",
              "      <td>206</td>\n",
              "      <td>357</td>\n",
              "      <td>232</td>\n",
              "      <td>1</td>\n",
              "      <td>198</td>\n",
              "      <td>7.810250</td>\n",
              "      <td>0.763713</td>\n",
              "      <td>1</td>\n",
              "      <td>143</td>\n",
              "      <td>109</td>\n",
              "      <td>123</td>\n",
              "      <td>130</td>\n",
              "      <td>12.099770</td>\n",
              "      <td>10.670550</td>\n",
              "      <td>14.137111</td>\n",
              "      <td>0.217037</td>\n",
              "      <td>1.426881</td>\n",
              "      <td>0.916617</td>\n",
              "      <td>8.168254</td>\n",
              "      <td>0.432319</td>\n",
              "      <td>5.872218</td>\n",
              "      <td>10.401401</td>\n",
              "      <td>12.843301</td>\n",
              "      <td>7.529992</td>\n",
              "      <td>12.525335</td>\n",
              "      <td>8.655344</td>\n",
              "      <td>8.499587</td>\n",
              "      <td>5.602552</td>\n",
              "      <td>4.187738</td>\n",
              "      <td>13.205982</td>\n",
              "      <td>5.432667</td>\n",
              "      <td>12.379275</td>\n",
              "      <td>11.938420</td>\n",
              "      <td>6.057282</td>\n",
              "      <td>2.581280</td>\n",
              "      <td>11.785456</td>\n",
              "      <td>4.445564</td>\n",
              "      <td>11.141346</td>\n",
              "      <td>0.839731</td>\n",
              "      <td>1.481908</td>\n",
              "      <td>8.920653</td>\n",
              "      <td>4.450379</td>\n",
              "      <td>10.584802</td>\n",
              "      <td>12.484882</td>\n",
              "      <td>7.168680</td>\n",
              "      <td>2.885415</td>\n",
              "      <td>12.413973</td>\n",
              "      <td>10.260494</td>\n",
              "      <td>10.091351</td>\n",
              "      <td>9.270888</td>\n",
              "      <td>3.173994</td>\n",
              "      <td>13.921871</td>\n",
              "      <td>61.763713</td>\n",
              "    </tr>\n",
              "    <tr>\n",
              "      <th>2</th>\n",
              "      <td>429</td>\n",
              "      <td>49</td>\n",
              "      <td>481</td>\n",
              "      <td>111</td>\n",
              "      <td>111</td>\n",
              "      <td>146</td>\n",
              "      <td>8.602325</td>\n",
              "      <td>0.651162</td>\n",
              "      <td>1</td>\n",
              "      <td>430</td>\n",
              "      <td>488</td>\n",
              "      <td>138</td>\n",
              "      <td>80</td>\n",
              "      <td>2.947479</td>\n",
              "      <td>12.671352</td>\n",
              "      <td>13.279918</td>\n",
              "      <td>13.163338</td>\n",
              "      <td>9.051826</td>\n",
              "      <td>11.605822</td>\n",
              "      <td>11.094161</td>\n",
              "      <td>10.461813</td>\n",
              "      <td>9.827713</td>\n",
              "      <td>2.206019</td>\n",
              "      <td>9.914789</td>\n",
              "      <td>4.448482</td>\n",
              "      <td>8.864810</td>\n",
              "      <td>10.837476</td>\n",
              "      <td>14.167872</td>\n",
              "      <td>13.456857</td>\n",
              "      <td>14.855511</td>\n",
              "      <td>7.596095</td>\n",
              "      <td>4.928033</td>\n",
              "      <td>2.439930</td>\n",
              "      <td>6.791165</td>\n",
              "      <td>8.709536</td>\n",
              "      <td>1.363087</td>\n",
              "      <td>4.980975</td>\n",
              "      <td>2.182372</td>\n",
              "      <td>14.673614</td>\n",
              "      <td>8.083289</td>\n",
              "      <td>6.601472</td>\n",
              "      <td>6.789200</td>\n",
              "      <td>12.982035</td>\n",
              "      <td>10.273114</td>\n",
              "      <td>14.030257</td>\n",
              "      <td>0.394970</td>\n",
              "      <td>8.160625</td>\n",
              "      <td>12.592059</td>\n",
              "      <td>8.937577</td>\n",
              "      <td>2.265191</td>\n",
              "      <td>11.255721</td>\n",
              "      <td>12.794841</td>\n",
              "      <td>12.080951</td>\n",
              "      <td>74.651162</td>\n",
              "    </tr>\n",
              "    <tr>\n",
              "      <th>3</th>\n",
              "      <td>414</td>\n",
              "      <td>350</td>\n",
              "      <td>481</td>\n",
              "      <td>370</td>\n",
              "      <td>208</td>\n",
              "      <td>158</td>\n",
              "      <td>8.306624</td>\n",
              "      <td>0.424645</td>\n",
              "      <td>1</td>\n",
              "      <td>340</td>\n",
              "      <td>111</td>\n",
              "      <td>38</td>\n",
              "      <td>177</td>\n",
              "      <td>5.368252</td>\n",
              "      <td>6.765946</td>\n",
              "      <td>0.544415</td>\n",
              "      <td>7.175573</td>\n",
              "      <td>14.515096</td>\n",
              "      <td>1.901743</td>\n",
              "      <td>9.231263</td>\n",
              "      <td>9.600810</td>\n",
              "      <td>10.058844</td>\n",
              "      <td>5.680021</td>\n",
              "      <td>8.238473</td>\n",
              "      <td>0.272760</td>\n",
              "      <td>11.892743</td>\n",
              "      <td>4.030567</td>\n",
              "      <td>14.946749</td>\n",
              "      <td>7.121632</td>\n",
              "      <td>6.507572</td>\n",
              "      <td>12.462688</td>\n",
              "      <td>12.222522</td>\n",
              "      <td>0.318528</td>\n",
              "      <td>5.350321</td>\n",
              "      <td>3.143358</td>\n",
              "      <td>10.291804</td>\n",
              "      <td>13.105170</td>\n",
              "      <td>10.159100</td>\n",
              "      <td>3.671488</td>\n",
              "      <td>11.087198</td>\n",
              "      <td>1.289054</td>\n",
              "      <td>0.249375</td>\n",
              "      <td>2.967133</td>\n",
              "      <td>6.885179</td>\n",
              "      <td>2.789577</td>\n",
              "      <td>6.416708</td>\n",
              "      <td>10.549814</td>\n",
              "      <td>11.456437</td>\n",
              "      <td>6.468099</td>\n",
              "      <td>2.519049</td>\n",
              "      <td>0.258284</td>\n",
              "      <td>9.317696</td>\n",
              "      <td>5.383098</td>\n",
              "      <td>69.424645</td>\n",
              "    </tr>\n",
              "    <tr>\n",
              "      <th>4</th>\n",
              "      <td>318</td>\n",
              "      <td>359</td>\n",
              "      <td>20</td>\n",
              "      <td>218</td>\n",
              "      <td>317</td>\n",
              "      <td>301</td>\n",
              "      <td>8.124038</td>\n",
              "      <td>0.767304</td>\n",
              "      <td>1</td>\n",
              "      <td>212</td>\n",
              "      <td>141</td>\n",
              "      <td>417</td>\n",
              "      <td>343</td>\n",
              "      <td>14.592218</td>\n",
              "      <td>6.483629</td>\n",
              "      <td>9.159313</td>\n",
              "      <td>5.083046</td>\n",
              "      <td>8.772015</td>\n",
              "      <td>7.687242</td>\n",
              "      <td>11.106926</td>\n",
              "      <td>13.926358</td>\n",
              "      <td>0.914295</td>\n",
              "      <td>1.418124</td>\n",
              "      <td>4.504223</td>\n",
              "      <td>6.158475</td>\n",
              "      <td>1.790923</td>\n",
              "      <td>7.049614</td>\n",
              "      <td>14.409808</td>\n",
              "      <td>11.615837</td>\n",
              "      <td>5.675790</td>\n",
              "      <td>9.136146</td>\n",
              "      <td>10.640432</td>\n",
              "      <td>14.051122</td>\n",
              "      <td>2.240417</td>\n",
              "      <td>3.271828</td>\n",
              "      <td>5.061455</td>\n",
              "      <td>3.679880</td>\n",
              "      <td>2.948615</td>\n",
              "      <td>6.419577</td>\n",
              "      <td>14.873100</td>\n",
              "      <td>14.806887</td>\n",
              "      <td>9.992545</td>\n",
              "      <td>3.701959</td>\n",
              "      <td>11.162686</td>\n",
              "      <td>1.886560</td>\n",
              "      <td>1.919999</td>\n",
              "      <td>2.268203</td>\n",
              "      <td>0.149421</td>\n",
              "      <td>4.105907</td>\n",
              "      <td>10.416291</td>\n",
              "      <td>6.816217</td>\n",
              "      <td>8.586960</td>\n",
              "      <td>4.512419</td>\n",
              "      <td>66.767304</td>\n",
              "    </tr>\n",
              "  </tbody>\n",
              "</table>\n",
              "</div>\n",
              "      <button class=\"colab-df-convert\" onclick=\"convertToInteractive('df-12c489e5-c12b-4fe6-8046-f156b8ce6365')\"\n",
              "              title=\"Convert this dataframe to an interactive table.\"\n",
              "              style=\"display:none;\">\n",
              "        \n",
              "  <svg xmlns=\"http://www.w3.org/2000/svg\" height=\"24px\"viewBox=\"0 0 24 24\"\n",
              "       width=\"24px\">\n",
              "    <path d=\"M0 0h24v24H0V0z\" fill=\"none\"/>\n",
              "    <path d=\"M18.56 5.44l.94 2.06.94-2.06 2.06-.94-2.06-.94-.94-2.06-.94 2.06-2.06.94zm-11 1L8.5 8.5l.94-2.06 2.06-.94-2.06-.94L8.5 2.5l-.94 2.06-2.06.94zm10 10l.94 2.06.94-2.06 2.06-.94-2.06-.94-.94-2.06-.94 2.06-2.06.94z\"/><path d=\"M17.41 7.96l-1.37-1.37c-.4-.4-.92-.59-1.43-.59-.52 0-1.04.2-1.43.59L10.3 9.45l-7.72 7.72c-.78.78-.78 2.05 0 2.83L4 21.41c.39.39.9.59 1.41.59.51 0 1.02-.2 1.41-.59l7.78-7.78 2.81-2.81c.8-.78.8-2.07 0-2.86zM5.41 20L4 18.59l7.72-7.72 1.47 1.35L5.41 20z\"/>\n",
              "  </svg>\n",
              "      </button>\n",
              "      \n",
              "  <style>\n",
              "    .colab-df-container {\n",
              "      display:flex;\n",
              "      flex-wrap:wrap;\n",
              "      gap: 12px;\n",
              "    }\n",
              "\n",
              "    .colab-df-convert {\n",
              "      background-color: #E8F0FE;\n",
              "      border: none;\n",
              "      border-radius: 50%;\n",
              "      cursor: pointer;\n",
              "      display: none;\n",
              "      fill: #1967D2;\n",
              "      height: 32px;\n",
              "      padding: 0 0 0 0;\n",
              "      width: 32px;\n",
              "    }\n",
              "\n",
              "    .colab-df-convert:hover {\n",
              "      background-color: #E2EBFA;\n",
              "      box-shadow: 0px 1px 2px rgba(60, 64, 67, 0.3), 0px 1px 3px 1px rgba(60, 64, 67, 0.15);\n",
              "      fill: #174EA6;\n",
              "    }\n",
              "\n",
              "    [theme=dark] .colab-df-convert {\n",
              "      background-color: #3B4455;\n",
              "      fill: #D2E3FC;\n",
              "    }\n",
              "\n",
              "    [theme=dark] .colab-df-convert:hover {\n",
              "      background-color: #434B5C;\n",
              "      box-shadow: 0px 1px 3px 1px rgba(0, 0, 0, 0.15);\n",
              "      filter: drop-shadow(0px 1px 2px rgba(0, 0, 0, 0.3));\n",
              "      fill: #FFFFFF;\n",
              "    }\n",
              "  </style>\n",
              "\n",
              "      <script>\n",
              "        const buttonEl =\n",
              "          document.querySelector('#df-12c489e5-c12b-4fe6-8046-f156b8ce6365 button.colab-df-convert');\n",
              "        buttonEl.style.display =\n",
              "          google.colab.kernel.accessAllowed ? 'block' : 'none';\n",
              "\n",
              "        async function convertToInteractive(key) {\n",
              "          const element = document.querySelector('#df-12c489e5-c12b-4fe6-8046-f156b8ce6365');\n",
              "          const dataTable =\n",
              "            await google.colab.kernel.invokeFunction('convertToInteractive',\n",
              "                                                     [key], {});\n",
              "          if (!dataTable) return;\n",
              "\n",
              "          const docLinkHtml = 'Like what you see? Visit the ' +\n",
              "            '<a target=\"_blank\" href=https://colab.research.google.com/notebooks/data_table.ipynb>data table notebook</a>'\n",
              "            + ' to learn more about interactive tables.';\n",
              "          element.innerHTML = '';\n",
              "          dataTable['output_type'] = 'display_data';\n",
              "          await google.colab.output.renderOutput(dataTable, element);\n",
              "          const docLink = document.createElement('div');\n",
              "          docLink.innerHTML = docLinkHtml;\n",
              "          element.appendChild(docLink);\n",
              "        }\n",
              "      </script>\n",
              "    </div>\n",
              "  </div>\n",
              "  "
            ]
          },
          "metadata": {},
          "execution_count": 4
        }
      ]
    },
    {
      "cell_type": "code",
      "source": [
        "df.target.value_counts()"
      ],
      "metadata": {
        "id": "ZXsBFulvxXqD",
        "colab": {
          "base_uri": "https://localhost:8080/"
        },
        "outputId": "90472d15-54c9-4760-89e0-46b99c1809d3"
      },
      "execution_count": 5,
      "outputs": [
        {
          "output_type": "execute_result",
          "data": {
            "text/plain": [
              "20.107472    1\n",
              "34.050755    1\n",
              "96.583510    1\n",
              "10.067023    1\n",
              "40.414667    1\n",
              "            ..\n",
              "57.816542    1\n",
              "50.221324    1\n",
              "78.668011    1\n",
              "80.666591    1\n",
              "59.613207    1\n",
              "Name: target, Length: 90000, dtype: int64"
            ]
          },
          "metadata": {},
          "execution_count": 5
        }
      ]
    },
    {
      "cell_type": "code",
      "source": [
        "df.target.describe()"
      ],
      "metadata": {
        "id": "vBRcmKI12WWK",
        "colab": {
          "base_uri": "https://localhost:8080/"
        },
        "outputId": "1bda6c45-6e50-426e-97d0-f309dfa4078c"
      },
      "execution_count": 6,
      "outputs": [
        {
          "output_type": "execute_result",
          "data": {
            "text/plain": [
              "count    90000.000000\n",
              "mean        50.033981\n",
              "std         28.897243\n",
              "min          0.002634\n",
              "25%         25.091903\n",
              "50%         50.030705\n",
              "75%         75.059454\n",
              "max         99.999482\n",
              "Name: target, dtype: float64"
            ]
          },
          "metadata": {},
          "execution_count": 6
        }
      ]
    },
    {
      "cell_type": "code",
      "source": [
        "df.hist(column='target')"
      ],
      "metadata": {
        "id": "Dlp6qEEm23oT",
        "colab": {
          "base_uri": "https://localhost:8080/",
          "height": 379
        },
        "outputId": "374058b8-75e9-4c85-9c5a-4d95965dbc71"
      },
      "execution_count": 7,
      "outputs": [
        {
          "output_type": "execute_result",
          "data": {
            "text/plain": [
              "array([[<AxesSubplot:title={'center':'target'}>]], dtype=object)"
            ]
          },
          "metadata": {},
          "execution_count": 7
        },
        {
          "output_type": "display_data",
          "data": {
            "text/plain": [
              "<Figure size 576x396 with 1 Axes>"
            ],
            "image/png": "[encoded data removed]"
          },
          "metadata": {}
        }
      ]
    },
    {
      "cell_type": "markdown",
      "source": [
        "Based on the above analysis, the target values are uniformly distributed from 0 to ~100."
      ],
      "metadata": {
        "id": "GJHDv3hC4j3j"
      }
    },
    {
      "cell_type": "code",
      "source": [
        "df.info()"
      ],
      "metadata": {
        "id": "TSfxbbk3yD8H",
        "colab": {
          "base_uri": "https://localhost:8080/"
        },
        "outputId": "32346c40-2982-4c47-f941-de077af861d3"
      },
      "execution_count": 8,
      "outputs": [
        {
          "output_type": "stream",
          "name": "stdout",
          "text": [
            "<class 'pandas.core.frame.DataFrame'>\n",
            "RangeIndex: 90000 entries, 0 to 89999\n",
            "Data columns (total 54 columns):\n",
            " #   Column  Non-Null Count  Dtype  \n",
            "---  ------  --------------  -----  \n",
            " 0   0       90000 non-null  int64  \n",
            " 1   1       90000 non-null  int64  \n",
            " 2   2       90000 non-null  int64  \n",
            " 3   3       90000 non-null  int64  \n",
            " 4   4       90000 non-null  int64  \n",
            " 5   5       90000 non-null  int64  \n",
            " 6   6       90000 non-null  float64\n",
            " 7   7       90000 non-null  float64\n",
            " 8   8       90000 non-null  int64  \n",
            " 9   9       90000 non-null  int64  \n",
            " 10  10      90000 non-null  int64  \n",
            " 11  11      90000 non-null  int64  \n",
            " 12  12      90000 non-null  int64  \n",
            " 13  13      90000 non-null  float64\n",
            " 14  14      90000 non-null  float64\n",
            " 15  15      90000 non-null  float64\n",
            " 16  16      90000 non-null  float64\n",
            " 17  17      90000 non-null  float64\n",
            " 18  18      90000 non-null  float64\n",
            " 19  19      90000 non-null  float64\n",
            " 20  20      90000 non-null  float64\n",
            " 21  21      90000 non-null  float64\n",
            " 22  22      90000 non-null  float64\n",
            " 23  23      90000 non-null  float64\n",
            " 24  24      90000 non-null  float64\n",
            " 25  25      90000 non-null  float64\n",
            " 26  26      90000 non-null  float64\n",
            " 27  27      90000 non-null  float64\n",
            " 28  28      90000 non-null  float64\n",
            " 29  29      90000 non-null  float64\n",
            " 30  30      90000 non-null  float64\n",
            " 31  31      90000 non-null  float64\n",
            " 32  32      90000 non-null  float64\n",
            " 33  33      90000 non-null  float64\n",
            " 34  34      90000 non-null  float64\n",
            " 35  35      90000 non-null  float64\n",
            " 36  36      90000 non-null  float64\n",
            " 37  37      90000 non-null  float64\n",
            " 38  38      90000 non-null  float64\n",
            " 39  39      90000 non-null  float64\n",
            " 40  40      90000 non-null  float64\n",
            " 41  41      90000 non-null  float64\n",
            " 42  42      90000 non-null  float64\n",
            " 43  43      90000 non-null  float64\n",
            " 44  44      90000 non-null  float64\n",
            " 45  45      90000 non-null  float64\n",
            " 46  46      90000 non-null  float64\n",
            " 47  47      90000 non-null  float64\n",
            " 48  48      90000 non-null  float64\n",
            " 49  49      90000 non-null  float64\n",
            " 50  50      90000 non-null  float64\n",
            " 51  51      90000 non-null  float64\n",
            " 52  52      90000 non-null  float64\n",
            " 53  target  90000 non-null  float64\n",
            "dtypes: float64(43), int64(11)\n",
            "memory usage: 37.1 MB\n"
          ]
        }
      ]
    },
    {
      "cell_type": "code",
      "source": [
        "fig, ax = plt.subplots(figsize=(6, 6))\n",
        "pcv = Rank2D(features=df.columns, algorithm=\"pearson\")\n",
        "pcv.fit(df, df.target)\n",
        "pcv.transform(df)\n",
        "pcv.poof()"
      ],
      "metadata": {
        "id": "Y1opvZqXwhWo",
        "colab": {
          "base_uri": "https://localhost:8080/",
          "height": 384
        },
        "outputId": "d69693dc-eaf6-4f09-8797-6090a41e9233"
      },
      "execution_count": 9,
      "outputs": [
        {
          "output_type": "display_data",
          "data": {
            "text/plain": [
              "<Figure size 432x432 with 2 Axes>"
            ],
            "image/png": "[encoded data removed]"
          },
          "metadata": {}
        },
        {
          "output_type": "execute_result",
          "data": {
            "text/plain": [
              "<AxesSubplot:title={'center':'Pearson Ranking of 54 Features'}>"
            ]
          },
          "metadata": {},
          "execution_count": 9
        }
      ]
    },
    {
      "cell_type": "code",
      "source": [
        "def correlated_columns(df, threshold=0.95):\n",
        "  return (df.corr().pipe(\n",
        "      lambda df1: pd.DataFrame(\n",
        "            np.tril(df1, k=-1),\n",
        "            columns=df.columns,\n",
        "            index=df.columns,))\n",
        "  .stack()\n",
        "  .rename(\"pearson\")\n",
        "  .pipe(\n",
        "      lambda s: s[s.abs() > threshold].reset_index())\n",
        "  .query(\"level_0 not in level_1\"))"
      ],
      "metadata": {
        "id": "gPYEC51-wmZ3"
      },
      "execution_count": 10,
      "outputs": []
    },
    {
      "cell_type": "code",
      "source": [
        "correlated_columns(df)"
      ],
      "metadata": {
        "id": "PMsr85rNRfEm",
        "colab": {
          "base_uri": "https://localhost:8080/",
          "height": 49
        },
        "outputId": "0b578c76-a4ee-47d5-bffe-0d0ebba10567"
      },
      "execution_count": 11,
      "outputs": [
        {
          "output_type": "execute_result",
          "data": {
            "text/plain": [
              "Empty DataFrame\n",
              "Columns: [level_0, level_1, pearson]\n",
              "Index: []"
            ],
            "text/html": [
              "\n",
              "  <div id=\"df-73f232d4-e5a3-428c-8a72-9dd9bd53422d\">\n",
              "    <div class=\"colab-df-container\">\n",
              "      <div>\n",
              "<style scoped>\n",
              "    .dataframe tbody tr th:only-of-type {\n",
              "        vertical-align: middle;\n",
              "    }\n",
              "\n",
              "    .dataframe tbody tr th {\n",
              "        vertical-align: top;\n",
              "    }\n",
              "\n",
              "    .dataframe thead th {\n",
              "        text-align: right;\n",
              "    }\n",
              "</style>\n",
              "<table border=\"1\" class=\"dataframe\">\n",
              "  <thead>\n",
              "    <tr style=\"text-align: right;\">\n",
              "      <th></th>\n",
              "      <th>level_0</th>\n",
              "      <th>level_1</th>\n",
              "      <th>pearson</th>\n",
              "    </tr>\n",
              "  </thead>\n",
              "  <tbody>\n",
              "  </tbody>\n",
              "</table>\n",
              "</div>\n",
              "      <button class=\"colab-df-convert\" onclick=\"convertToInteractive('df-73f232d4-e5a3-428c-8a72-9dd9bd53422d')\"\n",
              "              title=\"Convert this dataframe to an interactive table.\"\n",
              "              style=\"display:none;\">\n",
              "        \n",
              "  <svg xmlns=\"http://www.w3.org/2000/svg\" height=\"24px\"viewBox=\"0 0 24 24\"\n",
              "       width=\"24px\">\n",
              "    <path d=\"M0 0h24v24H0V0z\" fill=\"none\"/>\n",
              "    <path d=\"M18.56 5.44l.94 2.06.94-2.06 2.06-.94-2.06-.94-.94-2.06-.94 2.06-2.06.94zm-11 1L8.5 8.5l.94-2.06 2.06-.94-2.06-.94L8.5 2.5l-.94 2.06-2.06.94zm10 10l.94 2.06.94-2.06 2.06-.94-2.06-.94-.94-2.06-.94 2.06-2.06.94z\"/><path d=\"M17.41 7.96l-1.37-1.37c-.4-.4-.92-.59-1.43-.59-.52 0-1.04.2-1.43.59L10.3 9.45l-7.72 7.72c-.78.78-.78 2.05 0 2.83L4 21.41c.39.39.9.59 1.41.59.51 0 1.02-.2 1.41-.59l7.78-7.78 2.81-2.81c.8-.78.8-2.07 0-2.86zM5.41 20L4 18.59l7.72-7.72 1.47 1.35L5.41 20z\"/>\n",
              "  </svg>\n",
              "      </button>\n",
              "      \n",
              "  <style>\n",
              "    .colab-df-container {\n",
              "      display:flex;\n",
              "      flex-wrap:wrap;\n",
              "      gap: 12px;\n",
              "    }\n",
              "\n",
              "    .colab-df-convert {\n",
              "      background-color: #E8F0FE;\n",
              "      border: none;\n",
              "      border-radius: 50%;\n",
              "      cursor: pointer;\n",
              "      display: none;\n",
              "      fill: #1967D2;\n",
              "      height: 32px;\n",
              "      padding: 0 0 0 0;\n",
              "      width: 32px;\n",
              "    }\n",
              "\n",
              "    .colab-df-convert:hover {\n",
              "      background-color: #E2EBFA;\n",
              "      box-shadow: 0px 1px 2px rgba(60, 64, 67, 0.3), 0px 1px 3px 1px rgba(60, 64, 67, 0.15);\n",
              "      fill: #174EA6;\n",
              "    }\n",
              "\n",
              "    [theme=dark] .colab-df-convert {\n",
              "      background-color: #3B4455;\n",
              "      fill: #D2E3FC;\n",
              "    }\n",
              "\n",
              "    [theme=dark] .colab-df-convert:hover {\n",
              "      background-color: #434B5C;\n",
              "      box-shadow: 0px 1px 3px 1px rgba(0, 0, 0, 0.15);\n",
              "      filter: drop-shadow(0px 1px 2px rgba(0, 0, 0, 0.3));\n",
              "      fill: #FFFFFF;\n",
              "    }\n",
              "  </style>\n",
              "\n",
              "      <script>\n",
              "        const buttonEl =\n",
              "          document.querySelector('#df-73f232d4-e5a3-428c-8a72-9dd9bd53422d button.colab-df-convert');\n",
              "        buttonEl.style.display =\n",
              "          google.colab.kernel.accessAllowed ? 'block' : 'none';\n",
              "\n",
              "        async function convertToInteractive(key) {\n",
              "          const element = document.querySelector('#df-73f232d4-e5a3-428c-8a72-9dd9bd53422d');\n",
              "          const dataTable =\n",
              "            await google.colab.kernel.invokeFunction('convertToInteractive',\n",
              "                                                     [key], {});\n",
              "          if (!dataTable) return;\n",
              "\n",
              "          const docLinkHtml = 'Like what you see? Visit the ' +\n",
              "            '<a target=\"_blank\" href=https://colab.research.google.com/notebooks/data_table.ipynb>data table notebook</a>'\n",
              "            + ' to learn more about interactive tables.';\n",
              "          element.innerHTML = '';\n",
              "          dataTable['output_type'] = 'display_data';\n",
              "          await google.colab.output.renderOutput(dataTable, element);\n",
              "          const docLink = document.createElement('div');\n",
              "          docLink.innerHTML = docLinkHtml;\n",
              "          element.appendChild(docLink);\n",
              "        }\n",
              "      </script>\n",
              "    </div>\n",
              "  </div>\n",
              "  "
            ]
          },
          "metadata": {},
          "execution_count": 11
        }
      ]
    },
    {
      "cell_type": "markdown",
      "source": [
        "Based on plot above, current dataset with no correlation between the features in the data. Non-linear relationships between the features and the target variable.\n",
        "\n",
        "\n"
      ],
      "metadata": {
        "id": "nmWp8ugh3hgx"
      }
    },
    {
      "cell_type": "code",
      "source": [
        "df = df.dropna(axis = 0)"
      ],
      "metadata": {
        "id": "wAYCgcd2yKd0"
      },
      "execution_count": 12,
      "outputs": []
    },
    {
      "cell_type": "code",
      "source": [
        "df.plot.box(figsize=(20,5), rot=90)"
      ],
      "metadata": {
        "id": "tg4LyVRfyS7L",
        "colab": {
          "base_uri": "https://localhost:8080/",
          "height": 214
        },
        "outputId": "e2e56d6e-0dfb-4481-dc2c-1366738addc7"
      },
      "execution_count": 13,
      "outputs": [
        {
          "output_type": "execute_result",
          "data": {
            "text/plain": [
              "<AxesSubplot:>"
            ]
          },
          "metadata": {},
          "execution_count": 13
        },
        {
          "output_type": "display_data",
          "data": {
            "text/plain": [
              "<Figure size 1440x360 with 1 Axes>"
            ],
            "image/png": "[encoded data removed]"
          },
          "metadata": {}
        }
      ]
    },
    {
      "cell_type": "markdown",
      "source": [
        "Based on plot above dataset need to normalize for  bring all the features to a similar scale, which can help improve the performance of many machine learning algorithms, particularly those that are sensitive to the scale of the features"
      ],
      "metadata": {
        "id": "fqK2MzBe6Ams"
      }
    },
    {
      "cell_type": "code",
      "source": [
        "X = df.drop(['target'], axis=1)\n",
        "y = df['target'].astype(int)"
      ],
      "metadata": {
        "id": "AXDgH4cnw3F0"
      },
      "execution_count": 14,
      "outputs": []
    },
    {
      "cell_type": "code",
      "source": [
        "scaler = StandardScaler()\n",
        "X = pd.DataFrame(scaler.fit_transform(X))"
      ],
      "metadata": {
        "id": "cvjylvKiymuU"
      },
      "execution_count": null,
      "outputs": []
    },
    {
      "cell_type": "markdown",
      "source": [
        "**Data Preparation**"
      ],
      "metadata": {
        "id": "88xGZJ1M8sQl"
      }
    },
    {
      "cell_type": "code",
      "source": [
        "X_train, X_test, y_train, y_test = train_test_split(X, y, test_size=0.3, random_state=42)"
      ],
      "metadata": {
        "id": "hNOWuFfs0G12"
      },
      "execution_count": 15,
      "outputs": []
    },
    {
      "cell_type": "markdown",
      "source": [
        "**Model Creation, Training, and Evaluation**\n",
        "\n",
        "\n",
        "\n"
      ],
      "metadata": {
        "id": "-22PUb9R8lBR"
      }
    },
    {
      "cell_type": "markdown",
      "source": [
        "Because of non-linear elationships between the features and the target variable we can try to apply  tree-boosted algorithm such as XGBoost. XGBClassifier can capture non-linear relationships between the features and the target variable, even when there is no correlation between the features. Also XGBClassifier is robust to outliers and noisy data, which can be present even when there is no correlation between the features. It can still find patterns in the data and make accurate predictions."
      ],
      "metadata": {
        "id": "w9NWoSYA7TCu"
      }
    },
    {
      "cell_type": "code",
      "source": [
        "pipe = Pipeline([(\"scl\", StandardScaler()), ('clf', XGBClassifier(max_depth=6, n_estimators=150))])\n",
        "pipe.fit(X_train, y_train)\n"
      ],
      "metadata": {
        "id": "yRpGZ7Zl_y91"
      },
      "execution_count": 16,
      "outputs": []
    },
    {
      "cell_type": "code",
      "source": [
        "y_pred_xgb = pipe.predict(X_test)"
      ],
      "metadata": {
        "id": "EvOCWrympQxK"
      },
      "execution_count": 19,
      "outputs": []
    },
    {
      "cell_type": "code",
      "source": [
        "print(f'RMSE: {mean_squared_error(y_test, y_pred_xgb, squared = False):.3f}\\n')"
      ],
      "metadata": {
        "id": "ZON92mkX0u1g",
        "colab": {
          "base_uri": "https://localhost:8080/"
        },
        "outputId": "a4a8f43b-7890-46aa-a529-928fa10b0c98"
      },
      "execution_count": 20,
      "outputs": [
        {
          "output_type": "stream",
          "name": "stdout",
          "text": [
            "RMSE: 0.000\n",
            "\n"
          ]
        }
      ]
    },
    {
      "cell_type": "markdown",
      "source": [
        "It seems we have quite good results after applying the XGBoost algorithm"
      ],
      "metadata": {
        "id": "OGwekw9W8UI2"
      }
    },
    {
      "cell_type": "code",
      "source": [
        "# Predict hidden data\n",
        "df_hidden = pd.read_csv ('internship_hidden_test.csv')\n",
        "\n",
        "y_pred = pipe.predict(df_hidden)\n",
        "df_hidden['prediction'] = y_pred\n",
        "\n",
        "df.to_csv('hidden_test_with_predictions.csv', index=False)\n",
        "     "
      ],
      "metadata": {
        "id": "uRAF1i91o5fD"
      },
      "execution_count": 25,
      "outputs": []
    }
  ]
}